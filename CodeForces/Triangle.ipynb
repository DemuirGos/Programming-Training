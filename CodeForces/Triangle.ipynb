{
 "metadata": {
  "language_info": {
   "codemirror_mode": {
    "name": "ipython",
    "version": 3
   },
   "file_extension": ".py",
   "mimetype": "text/x-python",
   "name": "python",
   "nbconvert_exporter": "python",
   "pygments_lexer": "ipython3",
   "version": "3.7.4-final"
  },
  "orig_nbformat": 2,
  "kernelspec": {
   "name": "python3",
   "display_name": "Python 3.7.4 64-bit",
   "metadata": {
    "interpreter": {
     "hash": "57baa5815c940fdaff4d14510622de9616cae602444507ba5d0b6727c008cbd6"
    }
   }
  }
 },
 "nbformat": 4,
 "nbformat_minor": 2,
 "cells": [
  {
   "cell_type": "code",
   "execution_count": 181,
   "metadata": {},
   "outputs": [],
   "source": [
    "import math"
   ]
  },
  {
   "cell_type": "code",
   "execution_count": 182,
   "metadata": {},
   "outputs": [],
   "source": [
    "a,b = 408,765"
   ]
  },
  {
   "cell_type": "code",
   "execution_count": 183,
   "metadata": {},
   "outputs": [],
   "source": [
    "def rotate(p,o):\n",
    "    return (math.cos(o)*p[0] - math.sin(o)*p[1],math.cos(o)*p[1] + math.sin(o)*p[0])"
   ]
  },
  {
   "cell_type": "code",
   "execution_count": 184,
   "metadata": {},
   "outputs": [],
   "source": [
    "def latticesOf(n):\n",
    "    result = []\n",
    "    for i in range(1,n):\n",
    "        j = sqrt(n*n - i*i)\n",
    "        if math.floor(j) == j:\n",
    "            result.append((i,int(j)))\n",
    "    return result"
   ]
  },
  {
   "cell_type": "code",
   "execution_count": 185,
   "metadata": {},
   "outputs": [],
   "source": [
    "def solve(a,b):\n",
    "    latsOfA=latticesOf(a)\n",
    "    for p in latsOfA : \n",
    "        theta = math.atan(p[0]/p[1])\n",
    "        img = rotate((0,b),theta)\n",
    "        if math.floor(img[0]) == img[0] and math.floor(img[1]) == img[1] and (img[0] != j and img[1] != i):\n",
    "            return [(0,0),p,img[::-1]]\n",
    "    return []"
   ]
  },
  {
   "cell_type": "code",
   "execution_count": 186,
   "metadata": {},
   "outputs": [
    {
     "output_type": "execute_result",
     "data": {
      "text/plain": [
       "[(0, 0), (192, 360), (-360.0, 675.0)]"
      ]
     },
     "metadata": {},
     "execution_count": 186
    }
   ],
   "source": [
    "compare(a,b)"
   ]
  },
  {
   "cell_type": "code",
   "execution_count": null,
   "metadata": {},
   "outputs": [],
   "source": []
  }
 ]
}